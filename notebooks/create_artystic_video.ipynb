{
  "nbformat": 4,
  "nbformat_minor": 0,
  "metadata": {
    "colab": {
      "name": "create-artystic-video.ipynb",
      "provenance": [],
      "collapsed_sections": []
    },
    "kernelspec": {
      "name": "python3",
      "display_name": "Python 3"
    },
    "accelerator": "GPU"
  },
  "cells": [
    {
      "cell_type": "markdown",
      "metadata": {
        "id": "dfhLpSTiQ9Bo",
        "colab_type": "text"
      },
      "source": [
        "# Hello!\n",
        "\n",
        "### You are here to create you own artystic video. You don't have to know any programming language to do this! Just follow the steps below and have fun!"
      ]
    },
    {
      "cell_type": "markdown",
      "metadata": {
        "id": "qZ28hStvRT9m",
        "colab_type": "text"
      },
      "source": [
        "# 1. Learn how to use Google Colab notebooks.\n",
        "\n",
        "### If you had already used Google Colab or similar notebooks like Jupyter, you can skip this point.\n",
        "\n",
        "### What you are using now is called Google Colab Notebook. It consists of cells. Each cell contains text (for example the text you are now reading is in text cell) or code. Code cells can be run to perform some actions. You can click on any code cell and then click on \"play\" button on it's left to run the code inside the cell.\n",
        "\n",
        "### Let's try with you first code cell below! Click on it and then click play!"
      ]
    },
    {
      "cell_type": "code",
      "metadata": {
        "id": "IL3HLbIKT3G2",
        "colab_type": "code",
        "colab": {}
      },
      "source": [
        "print(\"Hello! You've just run you first cell!\")"
      ],
      "execution_count": 0,
      "outputs": []
    },
    {
      "cell_type": "markdown",
      "metadata": {
        "id": "fy611WWPUFfK",
        "colab_type": "text"
      },
      "source": [
        "### The code only printed a message, but now you know how to run cells. Output messages of every cell appear right below it. You can run cells as many times as you need. Maybe try changing the message in the cell above and run it again to see new message being printed.\n",
        "\n",
        "### When cell is running you can see circle indicator with \"stop\" button instead of \"play\" button. You can press stop to stop the cell. Then probably you will see red \"KeyboardInterrupt\" message. It just means that you stopped the cell manually before it executed all its code.\n",
        "\n",
        "### You can't run two cells in the same time. If you start cell when another is running, it will wait until the first running cell finishes.\n",
        "\n",
        "### The cells in this notebook were prepared for you, so you won't need to write any code, just run the cells.\n",
        "\n",
        "### If you see any errors during the execution of cells (usually they are red) firstly try to reset runtime. Choose Runtime -> Reset all runtimes from notebook bar. Then go through all steps again.\n",
        "\n",
        "### If errors still appear let me know! My nick is ptimuleczka and I use email from Google."
      ]
    },
    {
      "cell_type": "markdown",
      "metadata": {
        "id": "XhSEpM1MW_W4",
        "colab_type": "text"
      },
      "source": [
        "# 2. Prepare environment.\n",
        "\n",
        "### Firstly you need to change runtime type. Defaultly Google Colab uses CPU, but since creating artistic videos is very time consuming task and it needs neural networks, you should change runtime to GPU. Choose Runtime -> Change runtime type from notebook bar. Then under 'Hardware accelerator' choose GPU. If you can't switch to GPU (you see message that there's no free GPU), you should wait few minutes or hours until GPU is free. Running the rest of this notebook without GPU hardware accelerator is not recommended, because it will take really a lot of time.\n",
        "\n",
        "### Now you should install or download all required libraries or repositories with code to be able to use them and initialize some stuff. Run the cell below and observe its output - it prints many messages but it's ok. Wait few seconds after it's completed.\n",
        "\n",
        "### WARNING! You have to run this cell always after resetting runtime!"
      ]
    },
    {
      "cell_type": "code",
      "metadata": {
        "id": "zWQ_r3Z-bwhx",
        "colab_type": "code",
        "colab": {}
      },
      "source": [
        "!pip install git+git://github.com/ndg63276/pytube.git@master\n",
        "!git clone https://github.com/Ptimulka/neural-style-tf\n",
        "!git clone https://github.com/Ptimulka/colab-resources\n",
        "!wget --quiet -P neural-style-tf/ http://www.vlfeat.org/matconvnet/models/imagenet-vgg-verydeep-19.mat\n",
        "\n",
        "exec(open(\"colab-resources/scripts/infos.py\").read())\n",
        "exec(open(\"colab-resources/scripts/file_choosers.py\").read())\n",
        "exec(open(\"colab-resources/scripts/movie_cutter.py\").read())\n",
        "exec(open(\"colab-resources/scripts/yt_movie_chooser.py\").read())\n",
        "exec(open(\"colab-resources/scripts/helpers.py\").read())\n",
        "\n",
        "movie_info = MovieInfo()\n",
        "style_info = StyleInfo()"
      ],
      "execution_count": 0,
      "outputs": []
    },
    {
      "cell_type": "markdown",
      "metadata": {
        "id": "z8ZgCY7DeI78",
        "colab_type": "text"
      },
      "source": [
        "# 3. Prepare Google Drive.\n",
        "\n",
        "### We will use your Google Drive to store input and output files. You should have at least 2GB free. Go to [your Google Drive](https://drive.google.com/drive/u/0/my-drive) and see on the left how much storage is used.\n",
        "\n",
        "### Now you have to allow this notebook to use your Google Drive. Run the cell below. It prints a link you have to go to authorize. After opening the link follow the steps. In the end copy the authorization code which Google would create for you, go back to this tab, paste the code in the input field here below and hit Enter.\n",
        "\n",
        "### WARNING! You have to run this cell always after resetting runtime!\n"
      ]
    },
    {
      "cell_type": "code",
      "metadata": {
        "id": "56gvojcDgUGT",
        "colab_type": "code",
        "colab": {}
      },
      "source": [
        "from google.colab import drive\n",
        "drive.mount('/content/gdrive')"
      ],
      "execution_count": 0,
      "outputs": []
    },
    {
      "cell_type": "markdown",
      "metadata": {
        "id": "8IYECHkghxYy",
        "colab_type": "text"
      },
      "source": [
        "### If you see message 'Mounted at /content/gdrive' it means that this notebook is ready to easily use your Google Drive.\n",
        "\n",
        "### You can run the cell below which prints the content of your main Drive directory, to see if it works."
      ]
    },
    {
      "cell_type": "code",
      "metadata": {
        "id": "YWLk5DI3hwZf",
        "colab_type": "code",
        "colab": {}
      },
      "source": [
        "! ls \"/content/gdrive/My Drive\""
      ],
      "execution_count": 0,
      "outputs": []
    },
    {
      "cell_type": "markdown",
      "metadata": {
        "id": "3xz4kvtdipGs",
        "colab_type": "text"
      },
      "source": [
        "### Now we need to create some directories on your drive to keep there data used by this notebook. Run the cell below to create folders:\n",
        "\n",
        "\n",
        "*   /ArtisticGoogleColabs/input\n",
        "*   /ArtisticGoogleColabs/output\n",
        "*   /ArtisticGoogleColabs/styles\n",
        "\n",
        "\n",
        "### WARNING! You have to run this cell always even if folders already exist on your drive (this is because it inits some variables).\n"
      ]
    },
    {
      "cell_type": "code",
      "metadata": {
        "id": "SoxFr4ynaDy0",
        "colab_type": "code",
        "colab": {}
      },
      "source": [
        "exec(open(\"colab-resources/scripts/init_gdrive.py\").read())"
      ],
      "execution_count": 0,
      "outputs": []
    },
    {
      "cell_type": "markdown",
      "metadata": {
        "id": "R-9hfyCwkdsF",
        "colab_type": "text"
      },
      "source": [
        "### If you see 3 green messages, it means that directories were created. Go to tab with your Google Drive and see if they were created there. If you can't see them, try refreshing the page with Google Drive, or just wait a minute.\n",
        "\n",
        "### Notice that all directories from your Drive have prefix: '/content/gdrive/My Drive/' - this is ok, just remember about it if you see any paths to your drive here in notebook."
      ]
    },
    {
      "cell_type": "markdown",
      "metadata": {
        "id": "AIpYyBYKmYQO",
        "colab_type": "text"
      },
      "source": [
        "# 4. Choose input video file.\n",
        "\n",
        "### You have to choose whether your video should be taken from your Google Drive, or from YouTube. If you already started processing your video with this notebook earlier and you interrupted or you had to reset runtime, you have to choose cutted version of video from Google Drive, from /ArtisticGoogleColab/input folder.\n",
        "\n",
        "### If you decided to use video from YouTube follow point 4.1 and then skip 4.2 . If you decided to use video from your Google Drive skip 4.1 and go to 4.2.\n",
        "\n",
        "## 4.1 Download youtube video.\n",
        "\n",
        "### Run the cell below. In its output you should see the input field where you can paste your Youtube video url (if cell doesn't show the output run it again). Then click \"Load streams\" to see what streams are available. Choose stream which starts with '360p'. Highest quality streams are not recommended for first time, because processing them would take long time. Your stream should also be mp4. After selecting stream press 'Download video'. \n",
        "\n",
        "### At the top of cell's output you should see 'Trying to download your video' message. Wait a while for video being downloaded. If you see message \"Exception: Not able to download this movie. Try with other url.\", it means that given video can't be downloaded - why? Just because YouTube doesn't allow downloading some videos. Sorry, you have to choose another video. If you see other red message please let me know.\n",
        "\n",
        "### If you see green messages about creating folder and moving there downloaded file, everything worked and you can check on Google Drive if downloaded video really exists under given path. If it doesn't, wait a minute or refresh the page with Google Drive. If it still doesn't, probably you have to reset runtime (Runtime -> Reset all runtimes) and run all cells from this notebook again.\n"
      ]
    },
    {
      "cell_type": "code",
      "metadata": {
        "id": "rfaSMqu0uvWx",
        "colab_type": "code",
        "colab": {}
      },
      "source": [
        "ytmch = YTMovieChooser(movie_info, input_gdrive_path)\n",
        "ytmch.widget()"
      ],
      "execution_count": 0,
      "outputs": []
    },
    {
      "cell_type": "markdown",
      "metadata": {
        "id": "5Bxxvncxy12h",
        "colab_type": "text"
      },
      "source": [
        "## 4.2 Choose video from your Google Drive.\n",
        "\n",
        "### Alternatively to downloading YouTube video, you can choose it from your drive. I recommend you to use video in mp4 format. Run the cell below. It should show the content of your drive in orange (directories) and grey (files) tiles. If cell doesn't show the output run it again. Above tiles you should see \"Choose video\" message. Select your video by pressing on grey tile with its name (you can also see content of directory by pressing on orange tile). Then instead of \"Choose video\" message you should see green message telling you that you've chosen video."
      ]
    },
    {
      "cell_type": "code",
      "metadata": {
        "id": "upLQ6spuzkW2",
        "colab_type": "code",
        "colab": {}
      },
      "source": [
        "f = VideoBrowser(movie_info, \"/content/gdrive/My Drive\")\n",
        "f.widget()"
      ],
      "execution_count": 0,
      "outputs": []
    },
    {
      "cell_type": "markdown",
      "metadata": {
        "id": "guC--6im26zT",
        "colab_type": "text"
      },
      "source": [
        "# 5. Cut your video.\n",
        "\n",
        "### Probably you would like to have whole video in artistic style, but I recommend you to cut it to about 10 seconds length or even less. The longer video is, the more space is needed on your drive and it will need more time to process. If your video is already cutted, or it is shorter than 10 seconds you can just skip this point - don't run the cell below. If you really want to have longer video, that's ok, but be prepared that all your Google Drive space would be taken and you will have to wait for any effect for many many hours. \n",
        "\n",
        "### If you need to cut the video, run the cell below. You should see two sliders - first for choosing in which second start cutting your video and second slider for choosing in which second it should finish. If cell doesn't show the output run it again. You can move sliders with mouse or with arrows on your keyboard. Choose whatever fragment of your video you want, but remember it should be at most 10 seconds length. For example move first slider to 0 second and second slider to 10 second or first to 5 second and second to 15 second. Then press \"Cut video\" to create cutted video and save it on your Google Drive. After video is created you should see green message with path to your cutted video. You can check on your drive whether it exists there."
      ]
    },
    {
      "cell_type": "code",
      "metadata": {
        "id": "raCEYGns5Q51",
        "colab_type": "code",
        "colab": {}
      },
      "source": [
        "mc = MovieCutter(movie_info, input_gdrive_path)\n",
        "mc.widget()"
      ],
      "execution_count": 0,
      "outputs": []
    },
    {
      "cell_type": "markdown",
      "metadata": {
        "id": "gM8XGKZM69rf",
        "colab_type": "text"
      },
      "source": [
        "# 6. Split video into input frames.\n",
        "\n",
        "###  The output artistic video will be created frame by frame. Let's create image file for every frame in video. Firstly you have to run first cell below to set some paths. You have to run this cell always, even if you've already processed part of your video but you interrupted. After running the cell you should see message with paths where your input frames will be placed on your drive.\n",
        "\n",
        "### The second cell runs splitting your video into frames. 15/1 means that we will have 15 frames per second. You can lower the value from 15 to for example 10, but then your video would be less smooth. You can also increase this value but this means longer processing time. \n",
        "\n",
        "### After running the cell you can check on your drive (in path from previous cell output) whether the frames were created. Their names should be frame_0001.ppm, frame_0002.ppm and so on. I recommend you also to check how many frames files were created - just check what is the highest number in the frames files names.\n",
        "\n",
        "### WARNING! Remember that you always have to run first cell, even if you are rerunning this notebook, but second cell should be run only once for each video, because created frames will still exist on you drive even after this notebook is interrupted!"
      ]
    },
    {
      "cell_type": "code",
      "metadata": {
        "id": "_GdcUven8YdL",
        "colab_type": "code",
        "colab": {}
      },
      "source": [
        "import os\n",
        "from termcolor import colored\n",
        "\n",
        "my_video = None\n",
        "if(movie_info.gdrivepath_after_cut is None):\n",
        "  my_video = movie_info.gdrivepath\n",
        "else:\n",
        "  my_video = movie_info.gdrivepath_after_cut\n",
        "\n",
        "my_videobasename = os.path.basename(my_video)\n",
        "my_videodir = os.path.dirname(my_video)\n",
        "basenamewithoutextension, extension = os.path.splitext(my_videobasename)\n",
        "\n",
        "framesdir = my_videodir + \"/frames_\" + basenamewithoutextension\n",
        "! mkdir -p '$framesdir'\n",
        "\n",
        "framedirwithpattern = framesdir + \"/frame_%04d.ppm\"\n",
        "\n",
        "\n",
        "print(\"Input frames will be placed in: \" + framesdir)"
      ],
      "execution_count": 0,
      "outputs": []
    },
    {
      "cell_type": "code",
      "metadata": {
        "id": "fM7lKOFQ8nzq",
        "colab_type": "code",
        "colab": {}
      },
      "source": [
        "! ffmpeg -i \"$my_video\" -r 15/1 \"$framedirwithpattern\""
      ],
      "execution_count": 0,
      "outputs": []
    },
    {
      "cell_type": "markdown",
      "metadata": {
        "id": "NgnwAyjkAljO",
        "colab_type": "text"
      },
      "source": [
        "# 7. Prepare optical flow files. \n",
        "\n",
        "### Before we start processing frames, we need to create optical flow files. Thank to them our output video won't flitter.\n",
        "\n",
        "### To start creating files describing optical flow run the cell below. The files will be placed in the same directory where input frames are. The number at the end of the command in the cell tells from which frame start creating optical flow files.\n",
        "\n",
        "\n",
        "### There will be 3 types of files created: \"backward_Y_X.flo\", \"forward_X_Y.flo\" and \"reliable_X_Y.txt\", where X and Y are numbers of frames.\n",
        "\n",
        "### If you started running the cell below earlier but it was interrupted, you can check which optical flow files were created last on your drive and change the \"1\" below to this number, so the script can continue creating files from the point where it stopped.(Hint: on your drive sort files by name descending and check what is the first reliable txt file. If it is \"reliable_231_230.txt\", it means that you should start from 231 frame).\n",
        "\n",
        "### If all optical files were already created (reliable file with highest number is equal to number of frames) you don't have to run this cell at all - we need to create every optical flow file only once for every video.\n",
        "\n",
        "### Creating optical flow takes a lot of time - about 30 seconds per frame so for 15 fps and 10 seconds length video it would take 75 minutes. While you are waiting for the cell to finish you can scroll down to point 10 and read few words about long running cells.\n",
        "\n"
      ]
    },
    {
      "cell_type": "code",
      "metadata": {
        "id": "H2T3-zRmt5XG",
        "colab_type": "code",
        "colab": {}
      },
      "source": [
        "! cd neural-style-tf/video_input && bash make-opt-flow.sh \"$framedirwithpattern\" \"$framesdir\" 1"
      ],
      "execution_count": 0,
      "outputs": []
    },
    {
      "cell_type": "markdown",
      "metadata": {
        "id": "NiHleTAy9iVt",
        "colab_type": "text"
      },
      "source": [
        "# 8. Choose style.\n",
        "\n",
        "### Firstly check if you want to use any of existing style in [this reposotory](https://github.com/Ptimulka/neural-style-tf/tree/master/styles). If you want, then you can skip running first cell below.\n",
        "\n",
        "### If you want to use your style, put the image with the style in ArtisticGoogleColabs/styles directory on your Google Drive. Then run first cell below.\n",
        "\n",
        "### Then run second cell below which will show you select field, where you should choose which style you want to use.\n",
        "\n",
        "### WARNING! The second cell must be run always."
      ]
    },
    {
      "cell_type": "code",
      "metadata": {
        "id": "iM_HYzvMJBwI",
        "colab_type": "code",
        "colab": {}
      },
      "source": [
        "! cp  \"$styles_gdrive_path\"/* neural-style-tf/styles/"
      ],
      "execution_count": 0,
      "outputs": []
    },
    {
      "cell_type": "code",
      "metadata": {
        "id": "trp98N5OTKP-",
        "colab_type": "code",
        "colab": {}
      },
      "source": [
        "dirpath = 'neural-style-tf/styles/'\n",
        "choose_style_from_existing(dirpath, style_info)"
      ],
      "execution_count": 0,
      "outputs": []
    },
    {
      "cell_type": "markdown",
      "metadata": {
        "id": "btPrnUj_Uh50",
        "colab_type": "text"
      },
      "source": [
        "# 9. Create frames for artistic video.\n",
        "\n",
        "### Congratulations for reaching this point! Now the most important task! \n",
        "\n",
        "### Change --start_frame and --end_frame parameters in the cell below. if you are running this cell for this video for the first time you should of course use value 1 for --start_frame parameter. If you interrupted running this cell earlier or you had to reset runtime, check on your drive how many frames are already created in ArtisticGoogleColabs/output directory. Then set --start_frame parameter to next frame number. For example if frame with highest number is frame_0112.ppm then you should set --start_frame to 113. --end_frame parameter should be set to maximum number of frames (check in input folder how many frames are there).\n",
        "\n",
        "### Run the first cell below to prepere output folder (you must run it always) and then run the second cell to create artistic frames! You can skip the second cell if output frames are already created and you only want to merge them.\n",
        "\n",
        "### Processing every 360p frame lasts 200 seconds on GPU, which means 8 hours and 20 minutes for 15 fps and 10 seconds length video.\n"
      ]
    },
    {
      "cell_type": "code",
      "metadata": {
        "id": "cJWi_bsxrx5P",
        "colab_type": "code",
        "colab": {}
      },
      "source": [
        "style_basename_without_extension, extension_style = os.path.splitext(style_info.name)\n",
        "\n",
        "my_video_output_dir = output_gdrive_path + \"/\" + basenamewithoutextension + \"/\" \n",
        "my_video_output_dir_frames = my_video_output_dir + \"frames_\" + basenamewithoutextension + \"_\" + style_basename_without_extension\n",
        "! mkdir -p '$my_video_output_dir_frames'\n",
        "\n",
        "print(\"Output frames will be placed in: \" + my_video_output_dir_frames)"
      ],
      "execution_count": 0,
      "outputs": []
    },
    {
      "cell_type": "code",
      "metadata": {
        "id": "uAgI_IAhfwBD",
        "colab_type": "code",
        "colab": {}
      },
      "source": [
        "from termcolor import colored\n",
        "import tensorflow as tf\n",
        "import os\n",
        "\n",
        "device = None\n",
        "\n",
        "if tf.test.is_gpu_available() == True:\n",
        "  device = '/gpu:0'\n",
        "  print(colored(\"GPU will be used.\", 'green'))\n",
        "else:\n",
        "  print(colored(\"GPU is not available! Choose it from Runtime -> Change runtime type, and run all cells again.\", 'red'))\n",
        " \n",
        "\n",
        "if device:\n",
        "  ! cd neural-style-tf/ && python neural_style.py --video \\\n",
        "                       --video_input_dir \"$framesdir\" \\\n",
        "                       --video_output_dir \"$my_video_output_dir_frames\" \\\n",
        "                       --style_imgs \"$style_info.name\" \\\n",
        "                       --content_weight 5 \\\n",
        "                       --style_weight 1000 \\\n",
        "                       --temporal_weight 1000 \\\n",
        "                       --start_frame 118 \\\n",
        "                       --end_frame 152 \\\n",
        "                       --max_size 1024 \\\n",
        "                       --first_frame_iterations 2000 \\\n",
        "                       --device \"$device\" \\\n",
        "                       --verbose;"
      ],
      "execution_count": 0,
      "outputs": []
    },
    {
      "cell_type": "markdown",
      "metadata": {
        "id": "-LZyAHNsUraa",
        "colab_type": "text"
      },
      "source": [
        "# 10. Merge frames into video.\n",
        "\n",
        "### The last step! Run the cell below to merge all frames into one video. If you changed fps in point 6 you should also change it here in the last line. "
      ]
    },
    {
      "cell_type": "code",
      "metadata": {
        "id": "GJkUXxJYkgY1",
        "colab_type": "code",
        "colab": {}
      },
      "source": [
        "my_video_output_dir_frames_with_pattern = my_video_output_dir_frames + \"/frame_%04d.ppm\"\n",
        "my_video_output = my_video_output_dir + basenamewithoutextension + \"_\" + style_basename_without_extension + \".\" + extension\n",
        "print(\"You video path: \" + my_video_output)\n",
        "\n",
        "! ffmpeg -r 15/1 -i \"$my_video_output_dir_frames_with_pattern\" -c:v libx264 \"$my_video_output\""
      ],
      "execution_count": 0,
      "outputs": []
    },
    {
      "cell_type": "markdown",
      "metadata": {
        "id": "KW5CAAKMbmJf",
        "colab_type": "text"
      },
      "source": [
        "## Check if your video exists on your Google Drive and enjoy!"
      ]
    },
    {
      "cell_type": "markdown",
      "metadata": {
        "id": "ovePTHb3UvYC",
        "colab_type": "text"
      },
      "source": [
        "# 11. Hints concerning long running cells.\n",
        "\n",
        "### Some of the tasks from this notebooks (especially point 9 but also 7) are long running. You probably ask: do I have to look at this notebook all the time for several ours to have my video? You don't. You can switch to other tabs in your browser or do your work. You can even turn off your computer (allow your browser to close the tab). The running cell will probably do its task still for 1-2 hours. This is because the code is executed in Google runtime, not on your computer.\n",
        "\n",
        "### When any cell is running, icon on this notebook's tab in your browser should be grey instead of yellow. Usually you also see \"Busy\" message on notebook's bar.\n",
        "\n",
        "### Sometimes when you come back to this tab you can see that you were disconnected and you see \"Disconnected\" message on notebook's bar. Press on it to connect again. After reconnecting scroll down to the cell that was recently running and check if it still running (you see indicator around \"stop\" button on the left). If it's not running check if it finished it's task and if it did, go to further steps. If it's not running and it didn't finish its task you probably have to reset runtime - Runtime -> Reset all runtimes, and run all necessary steps again. Run your recently running cell respectively changing starting frame number."
      ]
    },
    {
      "cell_type": "markdown",
      "metadata": {
        "id": "AzwLMhQ5k5jb",
        "colab_type": "text"
      },
      "source": [
        "# 12. Other hints.\n",
        "\n",
        "### Frames of the video are in ppm format. If you want to preview them, download them to your computer from your Google drive. If your image viewer can't handle ppm files, use [this website](http://paulcuth.me.uk/netpbm-viewer/) to preview them."
      ]
    }
  ]
}