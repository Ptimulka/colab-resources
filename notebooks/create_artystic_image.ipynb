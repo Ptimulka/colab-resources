{
  "nbformat": 4,
  "nbformat_minor": 0,
  "metadata": {
    "colab": {
      "name": "create-artystic-image.ipynb",
      "provenance": [],
      "collapsed_sections": []
    },
    "kernelspec": {
      "name": "python3",
      "display_name": "Python 3"
    },
    "accelerator": "GPU"
  },
  "cells": [
    {
      "cell_type": "markdown",
      "metadata": {
        "id": "G26gGaaVst0a",
        "colab_type": "text"
      },
      "source": [
        "# Hello!\n",
        "\n",
        "### You are here to create you own artystic image. You don't have to know any programming language to do this! Just follow the steps below and have fun!"
      ]
    },
    {
      "cell_type": "markdown",
      "metadata": {
        "id": "xC82OsnXz_r8",
        "colab_type": "text"
      },
      "source": [
        "# 1. Learn how to use Google Colab notebooks.\n",
        "\n",
        "### If you had already used Google Colab or similar notebooks like Jupyter, you can skip this point.\n",
        "\n",
        "### What you are using now is called Google Colab Notebook. It consists of cells. Each cell contains text (for example the text you are now reading is in text cell) or code. Code cells can be run to perform some actions. You can click on any code cell and then click on \"play\" button on it's left to run the code inside the cell.\n",
        "\n",
        "### Let's try with you first code cell below! Click on it and then click play!"
      ]
    },
    {
      "cell_type": "code",
      "metadata": {
        "id": "OzHUFv-70HSt",
        "colab_type": "code",
        "colab": {}
      },
      "source": [
        "print(\"Hello! You've just run you first cell!\")"
      ],
      "execution_count": 0,
      "outputs": []
    },
    {
      "cell_type": "markdown",
      "metadata": {
        "id": "WvhnKSyk0LpP",
        "colab_type": "text"
      },
      "source": [
        "### The code only printed a message, but now you know how to run cells. Output messages of every cell appear right below it. You can run cells as many times as you need. Maybe try changing the message in the cell above and run it again to see new message being printed.\n",
        "\n",
        "### When cell is running you can see circle indicator with \"stop\" button instead of \"play\" button. You can press stop to stop the cell. Then probably you will see red \"KeyboardInterrupt\" message. It just means that you stopped the cell manually before it executed all its code.\n",
        "\n",
        "### You can't run two cells in the same time. If you start cell when another is running, it will wait until the first running cell finishes.\n",
        "\n",
        "### The cells in this notebook were prepared for you, so you won't need to write any code, just run the cells.\n",
        "\n",
        "### If you see any errors during the execution of cells (usually they are red) firstly try to reset runtime. Choose Runtime -> Reset all runtimes from notebook bar. Then go through all steps again.\n",
        "\n",
        "### If errors still appear let me know! My nick is ptimuleczka and I use email from Google."
      ]
    },
    {
      "cell_type": "markdown",
      "metadata": {
        "id": "xRz9pzu80RVW",
        "colab_type": "text"
      },
      "source": [
        "\n",
        "# 2. Prepare environment.\n",
        "\n",
        "### Firstly you need to change runtime type. Defaultly Google Colab uses CPU, but since creating artistic images is very time consuming task and it needs neural networks, you should change runtime to GPU or TPU. Choose Runtime -> Change runtime type from notebook bar. Then under 'Hardware accelerator' choose GPU. If you can't switch to GPU (you see message that there's no free GPU), select TPU, and confirm with 'SAVE'. Running the rest of this notebook without any hardware accelerator is not recommended, because it will take really a lot of time.\n",
        "\n",
        "### Now you should install or download all required libraries or repositories with code to be able to use them and initialize some stuff. Run the cell below and observe its output - it prints many messages but it's ok. Wait few seconds after it's completed.\n",
        "\n",
        "### WARNING! You have to run this cell always after resetting runtime!"
      ]
    },
    {
      "cell_type": "code",
      "metadata": {
        "id": "gZV3D6W801SN",
        "colab_type": "code",
        "colab": {}
      },
      "source": [
        "!git clone https://github.com/Ptimulka/neural-style-tf\n",
        "!git clone https://github.com/Ptimulka/colab-resources\n",
        "!wget --quiet -P neural-style-tf/ http://www.vlfeat.org/matconvnet/models/imagenet-vgg-verydeep-19.mat\n",
        "  \n",
        "exec(open(\"colab-resources/scripts/infos.py\").read())\n",
        "exec(open(\"colab-resources/scripts/file_choosers.py\").read())\n",
        "exec(open(\"colab-resources/scripts/url_image_browser.py\").read())\n",
        "exec(open(\"colab-resources/scripts/helpers.py\").read())\n",
        "\n",
        "image_info = ImageInfo()\n",
        "style_info = StyleInfo()"
      ],
      "execution_count": 0,
      "outputs": []
    },
    {
      "cell_type": "markdown",
      "metadata": {
        "id": "5YS9jFLk0s6J",
        "colab_type": "text"
      },
      "source": [
        "# 3. Prepare Google Drive.\n",
        "\n",
        "### We will use your Google Drive to store input and output files. You should have at least 2GB free. Go to [your Google Drive](https://drive.google.com/drive/u/0/my-drive) and see on the left how much storage is used.\n",
        "\n",
        "### Now you have to allow this notebook to use your Google Drive. Run the cell below. It prints a link you have to go to authorize. After opening the link follow the steps. In the end copy the authorization code which Google would create for you, go back to this tab, paste the code in the input field here below and hit Enter.\n",
        "\n",
        "### WARNING! You have to run this cell always after resetting runtime!\n"
      ]
    },
    {
      "cell_type": "code",
      "metadata": {
        "id": "eINVrmaJ4J4z",
        "colab_type": "code",
        "colab": {}
      },
      "source": [
        "from google.colab import drive\n",
        "drive.mount('/content/gdrive')"
      ],
      "execution_count": 0,
      "outputs": []
    },
    {
      "cell_type": "markdown",
      "metadata": {
        "id": "wOhfRfsB4QQs",
        "colab_type": "text"
      },
      "source": [
        "### If you see message 'Mounted at /content/gdrive' it means that this notebook is ready to easily use your Google Drive.\n",
        "\n",
        "### You can run the cell below which prints the content of your main Drive directory, to see if it works."
      ]
    },
    {
      "cell_type": "code",
      "metadata": {
        "id": "bOyTo5QI4TK8",
        "colab_type": "code",
        "colab": {}
      },
      "source": [
        "! ls \"/content/gdrive/My Drive\""
      ],
      "execution_count": 0,
      "outputs": []
    },
    {
      "cell_type": "markdown",
      "metadata": {
        "id": "s4ptIFcn4aZB",
        "colab_type": "text"
      },
      "source": [
        "### Now we need to create some directories on your drive to keep there data used by this notebook. Run the cell below to create folders:\n",
        "\n",
        "\n",
        "*   /ArtisticGoogleColabs/input\n",
        "*   /ArtisticGoogleColabs/output\n",
        "*   /ArtisticGoogleColabs/styles\n",
        "\n",
        "\n",
        "### WARNING! This cell must be run always even if you already created the directories, because it initializes some variables. If directories already exist, they will stay."
      ]
    },
    {
      "cell_type": "code",
      "metadata": {
        "id": "esVR7xB14dfB",
        "colab_type": "code",
        "colab": {}
      },
      "source": [
        "exec(open(\"colab-resources/scripts/init_gdrive.py\").read())"
      ],
      "execution_count": 0,
      "outputs": []
    },
    {
      "cell_type": "markdown",
      "metadata": {
        "id": "N_ochEPk4mvb",
        "colab_type": "text"
      },
      "source": [
        "### If you see 3 green messages, it means that directories were created. Go to tab with your Google Drive and see if they were created there. If you can't see them, try refreshing the page with Google Drive, or just wait a minute.\n",
        "\n",
        "### Notice that all directories from your Drive have prefix: '/content/gdrive/My Drive/' - this is ok, just remember about it if you see any paths to your drive here in notebook."
      ]
    },
    {
      "cell_type": "markdown",
      "metadata": {
        "id": "vm7V0m-H448O",
        "colab_type": "text"
      },
      "source": [
        "# 4. Choose input image file.\n",
        "\n",
        "### You have to choose whether your image should be taken from your Google Drive, or downloaded from the Internet. \n",
        "\n",
        "### If you decided to use image from the Internet follow point 4.1 and then skip 4.2 . If you decided to use image from your Google Drive skip 4.1 and go to 4.2.\n",
        "\n",
        "## 4.1 Download image.\n",
        "\n",
        "\n",
        "### Run the cell below. In its output you should see the input field where you can paste your image url. Then click \"Load image\" to load and download image.\n",
        "\n",
        "### We don't recommend using huge images.\n",
        "\n",
        "### We recommend using jpeg images, some image formats won't work.\n",
        "\n",
        "### After a while (it depends on your image size) you should see the image in cell's output and a green message telling you downloaded image path. You can check on Google Drive if downloaded image really exists under given path. If it doesn't, wait a minute or refresh the page with Google Drive. If it still doesn't, probably you have to reset runtime (Runtime -> Reset all runtimes) and run all cells from this notebook again.\n",
        "\n",
        "### If you see 'Not image url' error, make sure that your link ends with image extension like \".jpg\" and starts with http.\n",
        "\n",
        "### If you see any other errors, try with other image or check if you had run all cells from point '3. Prepare Google Drive'. You can also try with resetting all runtimes.\n",
        "\n",
        "### You can paste the URLs and download images as many times as you wish, but remember that the last downloaded image would be processed later in this notebook."
      ]
    },
    {
      "cell_type": "code",
      "metadata": {
        "id": "38_7x4OG5LZf",
        "colab_type": "code",
        "colab": {}
      },
      "source": [
        "urlbrowser = URLBrowser(image_info, input_gdrive_path)\n",
        "urlbrowser.widget()"
      ],
      "execution_count": 0,
      "outputs": []
    },
    {
      "cell_type": "markdown",
      "metadata": {
        "id": "8MoH7OXq9Yuj",
        "colab_type": "text"
      },
      "source": [
        "## 4.2 Choose image from your Google Drive.\n",
        "\n",
        "### Alternatively to downloading image from the internet, you can choose it from your drive. Run the cell below (sometimes there are problems with this cell and it doesn't show the output, in such situation run the cell again). It should show the content of your drive in orange (directories) and grey (files) tiles. Above them you should see \"Choose image\" message. Select your image by pressing on grey tile with its name (you can also see content of directory by pressing on orange tile). Then instead of \"Choose image\" message you should see the image preview.\n",
        "\n",
        "### You can go back with orange buttons with \"..\" (folder up) and choose another image if you change your mind."
      ]
    },
    {
      "cell_type": "code",
      "metadata": {
        "id": "dwD_2WGo9JhV",
        "colab_type": "code",
        "colab": {}
      },
      "source": [
        "f = ImageBrowser(image_info, \"/content/gdrive/My Drive\")\n",
        "f.widget()"
      ],
      "execution_count": 0,
      "outputs": []
    },
    {
      "cell_type": "markdown",
      "metadata": {
        "id": "6FP6_gY9_Y4X",
        "colab_type": "text"
      },
      "source": [
        "# 5. Choose style.\n",
        "\n",
        "### Firstly check if you want to use any of existing style in [this reposotory](https://github.com/Ptimulka/neural-style-tf/tree/master/styles). If you want, then you can skip running first cell below.\n",
        "\n",
        "### If you want to use your style, put the image with the style in ArtisticGoogleColabs/styles directory on your Google Drive. Then run first cell below.\n",
        "\n",
        "### Then run second cell below which will show you select field, where you should choose which style you want to use. (Sometimes there are problems with this cell and it doesn't show the output, in such situation run the cell again)\n",
        "\n",
        "### WARNING! The second cell must be run always."
      ]
    },
    {
      "cell_type": "code",
      "metadata": {
        "id": "jLkKt_J5AvzY",
        "colab_type": "code",
        "colab": {}
      },
      "source": [
        "! cp  \"$styles_gdrive_path\"/* neural-style-tf/styles/"
      ],
      "execution_count": 0,
      "outputs": []
    },
    {
      "cell_type": "code",
      "metadata": {
        "id": "HA6DQR9SA0nm",
        "colab_type": "code",
        "colab": {}
      },
      "source": [
        "dirpath = 'neural-style-tf/styles/'\n",
        "choose_style_from_existing(dirpath, style_info)"
      ],
      "execution_count": 0,
      "outputs": []
    },
    {
      "cell_type": "markdown",
      "metadata": {
        "id": "Tg6Zsj_UZO5y",
        "colab_type": "text"
      },
      "source": [
        "# 6. Create your artistic image.\n",
        "\n",
        "### Congratulations for reaching this point! Now the most important task! \n",
        " \n",
        "### Run two cells below to create artistic image!\n",
        "\n",
        "### If you had already created the image and you want just to see it, run only the first cell and go to next point.\n"
      ]
    },
    {
      "cell_type": "code",
      "metadata": {
        "id": "LzUpBZqkc9o8",
        "colab_type": "code",
        "colab": {}
      },
      "source": [
        "my_image_basename = os.path.basename(image_info.gdrivepath)\n",
        "my_image_basename_without_extension, extension = os.path.splitext(my_image_basename)\n",
        "style_basename_without_extension, extension_style = os.path.splitext(style_info.name)\n",
        "output_image_name = my_image_basename_without_extension + \"_\" + style_basename_without_extension"
      ],
      "execution_count": 0,
      "outputs": []
    },
    {
      "cell_type": "code",
      "metadata": {
        "id": "oSDHV-xZaBI0",
        "colab_type": "code",
        "colab": {}
      },
      "source": [
        "device = \"/cpu:0\"\n",
        "  \n",
        "if tf.test.is_gpu_available() == True:\n",
        "  device = '/gpu:0'\n",
        "else:\n",
        "  print(colored(\"GPU is not available! The cell will continue but next time remember to choose GPU from Runtime -> Change runtime type -> Hardware accelerator, and run all cells again.\", 'red'))\n",
        "  \n",
        "\n",
        "if device:\n",
        "  ! cd neural-style-tf/ && python neural_style.py \\\n",
        "                       --content_img \"$image_info.gdrivepath\" \\\n",
        "                       --img_output_dir \"$output_gdrive_path\" \\\n",
        "                       --img_name \"$output_image_name\" \\\n",
        "                       --style_imgs \"$style_info.name\" \\\n",
        "                       --content_weight 5 \\\n",
        "                       --style_weight 1000 \\\n",
        "                       --temporal_weight 1000 \\\n",
        "                       --max_iterations 3000 \\\n",
        "                       --device \"$device\" \\\n",
        "                       --max_size 1024 \\\n",
        "                       --verbose;\n",
        "  \n"
      ],
      "execution_count": 0,
      "outputs": []
    },
    {
      "cell_type": "markdown",
      "metadata": {
        "id": "tWASX_4rd6e_",
        "colab_type": "text"
      },
      "source": [
        "# 7. See the result.\n",
        "\n",
        "### Run the cell below to see the effect!\n"
      ]
    },
    {
      "cell_type": "code",
      "metadata": {
        "id": "9tDF6cQuiNFQ",
        "colab_type": "code",
        "colab": {}
      },
      "source": [
        "out_img_path = output_gdrive_path + \"/\" + output_image_name + \"/\" + output_image_name + \".png\"\n",
        "print(colored(\"Your image path: \" + out_img_path, 'green'))\n",
        "display(Image(out_img_path, width=500))"
      ],
      "execution_count": 0,
      "outputs": []
    }
  ]
}